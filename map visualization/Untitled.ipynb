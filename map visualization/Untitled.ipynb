{
 "cells": [
  {
   "cell_type": "code",
   "execution_count": 6,
   "id": "47340c18",
   "metadata": {},
   "outputs": [],
   "source": [
    "from os import write\n",
    "from bokeh.plotting import figure, output_file, show\n",
    "from bokeh.palettes import magma\n",
    "import pandas as pd\n",
    "import csv\n",
    "\n",
    "fields = [\"X-Axis\", \"Y-Axis\", \"Z-Axis\"]\n",
    "coordinates = [ \n",
    "[-77.86, 16.80, 0.0],\n",
    "[-15.45, 194.16, 0.0],\n",
    "[-4.32, 110.51, 0.0],\n",
    "[-1.77, -23.78, 0.0],\n",
    "[79.56, -7.79, 0.0],\n",
    "[230.90, -40.58, 0.0],\n",
    "[189.83, -58.67, 0.0],\n",
    "[161.58, -111.42, 0.0],\n",
    "[17.10, -130.70, 0.0],\n",
    "[-9.35, -168.07, 0.0],\n",
    "[-44.25, -193.47, 0.0],\n",
    "[-145.75, -75.70, 0.0],\n",
    "[-145.47, -7.79, 0.0],\n",
    "[-104.58, -0.5, 0.0],\n",
    "[-52.68, -0.91, 0.0],\n",
    "[-77.9, -17.59, 0.2]\n",
    "    \n",
    "]\n",
    "\n",
    "\n",
    "with open(\"coordinate.csv\", 'w') as csvfile:\n",
    "    write = csv.writer(csvfile)\n",
    "    write.writerow(fields)\n",
    "    write.writerows(coordinates)"
   ]
  },
  {
   "cell_type": "code",
   "execution_count": 8,
   "id": "343679ff",
   "metadata": {},
   "outputs": [
    {
     "name": "stderr",
     "output_type": "stream",
     "text": [
      "BokehUserWarning: ColumnDataSource's columns must be of the same length. Current lengths: ('hatch_color', 250), ('x', 16), ('y', 16)\n",
      "BokehUserWarning: ColumnDataSource's columns must be of the same length. Current lengths: ('fill_color', 250), ('hatch_color', 250), ('x', 16), ('y', 16)\n",
      "BokehUserWarning: ColumnDataSource's columns must be of the same length. Current lengths: ('fill_color', 250), ('hatch_color', 250), ('line_color', 250), ('x', 16), ('y', 16)\n"
     ]
    }
   ],
   "source": [
    "# instantiating the figure object\n",
    "graph = figure(title = \"SEM Autonomouse Scatter Plot\")\n",
    "  \n",
    "# # reading the database\n",
    "data = pd.read_csv(\"coordinate.csv\")\n",
    "  \n",
    "color = magma(250)\n",
    "  \n",
    "# # plotting the graph\n",
    "graph.scatter(data['X-Axis'], data['Y-Axis'], color=color)\n",
    "  \n",
    "# # displaying the model\n",
    "show(graph)\n",
    "# A* https://www.pythonpool.com/a-star-algorithm-python/#:~:text=A%2A%20Algorithm%20in%20Python%20or%20in%20general%20is,the%20starting%20point%E2%80%99s%20cost%2C%20and%20the%20ending%20point."
   ]
  },
  {
   "cell_type": "code",
   "execution_count": null,
   "id": "c289af89",
   "metadata": {},
   "outputs": [],
   "source": []
  },
  {
   "cell_type": "code",
   "execution_count": null,
   "id": "02958097",
   "metadata": {},
   "outputs": [],
   "source": []
  }
 ],
 "metadata": {
  "kernelspec": {
   "display_name": "Python 3 (ipykernel)",
   "language": "python",
   "name": "python3"
  },
  "language_info": {
   "codemirror_mode": {
    "name": "ipython",
    "version": 3
   },
   "file_extension": ".py",
   "mimetype": "text/x-python",
   "name": "python",
   "nbconvert_exporter": "python",
   "pygments_lexer": "ipython3",
   "version": "3.8.13"
  }
 },
 "nbformat": 4,
 "nbformat_minor": 5
}
